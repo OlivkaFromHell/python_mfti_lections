{
 "cells": [
  {
   "cell_type": "markdown",
   "id": "unauthorized-spanish",
   "metadata": {},
   "source": [
    "# Алгоритмы на Python 3. Лекция №9"
   ]
  },
  {
   "cell_type": "markdown",
   "id": "medium-center",
   "metadata": {},
   "source": [
    "## Алгоритм сортировки слиянием"
   ]
  },
  {
   "cell_type": "code",
   "execution_count": 4,
   "id": "yellow-circus",
   "metadata": {},
   "outputs": [],
   "source": [
    "def merge(A:list, B:list):\n",
    "    C = [0] * (len(A) + len(B))\n",
    "    i = k = n = 0\n",
    "    while i < len(A) and k < len(B):\n",
    "        if A[i] <= B[k]: \"\"\"для устойчивости сортировки пишем <=, а не <\n",
    "                           т.к. предполагаем что мы в первую очередь переносим \n",
    "                           элементы из левого массива\"\"\"\n",
    "            C[n] = A[i]\n",
    "            i += 1\n",
    "        else:\n",
    "            C[n] = B[k]\n",
    "            k += 1\n",
    "        n += 1\n",
    "    while i < len(A):\n",
    "        C[n] = A[i]\n",
    "        i += 1\n",
    "        n += 1\n",
    "    while k < len(B)\n",
    "        C[n] = B[k]\n",
    "        k += 1\n",
    "        n += 1\n",
    "    return C\n",
    "    "
   ]
  },
  {
   "cell_type": "markdown",
   "id": "female-istanbul",
   "metadata": {},
   "source": [
    "Сортировка называется устойчивой, если она не меняет порядок равных элементов.\n",
    "Так как сортируемые объекты могут иметь несколько характеристик.\n",
    "Например: два комплексных числа могут быть равны по модулю."
   ]
  },
  {
   "cell_type": "code",
   "execution_count": 8,
   "id": "outdoor-eleven",
   "metadata": {},
   "outputs": [],
   "source": [
    "# Записываем рекурсивную формулу для сортировки\n",
    "def merge_sort(A):\n",
    "    if len(A) <= 1:\n",
    "        return\n",
    "    middle = len(A) // 2\n",
    "    L = [A[i] for i in range(0, midlle)]\n",
    "    R = [A[i] for i in ranfe(middle, len(A))]\n",
    "    merge_sort(L)\n",
    "    merge_sort(R)\n",
    "    C = merge(L, R)\n",
    "    for i in range(len(A)):\n",
    "        A[i] = C[i]"
   ]
  },
  {
   "cell_type": "markdown",
   "id": "unsigned-justice",
   "metadata": {},
   "source": [
    "## Сортировка Тома Хоара (Quicksort)"
   ]
  },
  {
   "cell_type": "code",
   "execution_count": 1,
   "id": "crazy-passing",
   "metadata": {},
   "outputs": [],
   "source": [
    "def hoar_sort(A):\n",
    "    if len(A) <= 1:\n",
    "        return\n",
    "    barrier = A[0]\n",
    "    L = []\n",
    "    M = []\n",
    "    R = []\n",
    "    for x in A:\n",
    "        if x < barrier:\n",
    "            L.append(x)\n",
    "        elif x == barrier:\n",
    "            M.append(x)\n",
    "        else:\n",
    "            R.append(x)\n",
    "    hoar_sort(L)\n",
    "    hoar_sort(R)\n",
    "    k = 0\n",
    "    for x in L+M+R:\n",
    "        A[k] = x\n",
    "        k += 1"
   ]
  },
  {
   "cell_type": "markdown",
   "id": "conservative-individual",
   "metadata": {},
   "source": [
    "## Алгоритм для проверки корректности сортировки"
   ]
  },
  {
   "cell_type": "code",
   "execution_count": 3,
   "id": "catholic-freeware",
   "metadata": {},
   "outputs": [],
   "source": [
    "def check_sorted(A, ascending =True):\n",
    "    \"\"\" Проверка отсортированности за O(len(A))\n",
    "        ascending[True] - проверка на сортировку по возрастанию\n",
    "        ascending[False] - проверка на сортировку по убыванию\"\"\"\n",
    "    flag = True\n",
    "    s = 2*int(ascending) - 1\n",
    "    for i in range(0, N-1):\n",
    "        if s*A[i] > S*A[i+1]:\n",
    "            flag = False\n",
    "            break\n",
    "    return flag"
   ]
  }
 ],
 "metadata": {
  "kernelspec": {
   "display_name": "Python 3",
   "language": "python",
   "name": "python3"
  },
  "language_info": {
   "codemirror_mode": {
    "name": "ipython",
    "version": 3
   },
   "file_extension": ".py",
   "mimetype": "text/x-python",
   "name": "python",
   "nbconvert_exporter": "python",
   "pygments_lexer": "ipython3",
   "version": "3.8.7"
  }
 },
 "nbformat": 4,
 "nbformat_minor": 5
}
